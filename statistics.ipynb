{
 "cells": [
  {
   "cell_type": "code",
   "execution_count": 4,
   "id": "c1874baa-8e8e-454e-8850-56ce559b28da",
   "metadata": {},
   "outputs": [],
   "source": [
    "import numpy as np\n",
    "import seaborn as sns\n",
    "import matplotlib.pyplot as plt\n",
    "%matplotlib inline"
   ]
  },
  {
   "cell_type": "code",
   "execution_count": null,
   "id": "971da119-728a-47d7-97f1-104378f3a3ab",
   "metadata": {},
   "outputs": [],
   "source": [
    "import statistics "
   ]
  },
  {
   "cell_type": "markdown",
   "id": "e60d900c-4c54-4b81-bc11-db44dc7d3222",
   "metadata": {},
   "source": [
    "## 1. MEAN , MEDIAN AND MODE"
   ]
  },
  {
   "cell_type": "code",
   "execution_count": 9,
   "id": "da4972c7-8c8a-4f6a-8cef-dec04841d572",
   "metadata": {},
   "outputs": [],
   "source": [
    "df=sns.load_dataset('tips')"
   ]
  },
  {
   "cell_type": "code",
   "execution_count": null,
   "id": "0bd450b3-08f3-4957-8da5-dbe1571dc944",
   "metadata": {},
   "outputs": [],
   "source": []
  }
 ],
 "metadata": {
  "kernelspec": {
   "display_name": "Python 3 (ipykernel)",
   "language": "python",
   "name": "python3"
  },
  "language_info": {
   "codemirror_mode": {
    "name": "ipython",
    "version": 3
   },
   "file_extension": ".py",
   "mimetype": "text/x-python",
   "name": "python",
   "nbconvert_exporter": "python",
   "pygments_lexer": "ipython3",
   "version": "3.12.4"
  }
 },
 "nbformat": 4,
 "nbformat_minor": 5
}
