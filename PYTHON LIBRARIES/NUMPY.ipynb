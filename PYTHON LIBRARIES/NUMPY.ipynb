{
 "cells": [
  {
   "cell_type": "markdown",
   "id": "4c3df0d2-82db-4375-8459-b53f79e308f7",
   "metadata": {},
   "source": [
    "# NUMPY"
   ]
  },
  {
   "cell_type": "raw",
   "id": "e8c951a9-645e-4b06-8d20-3fc118b445f9",
   "metadata": {},
   "source": [
    "Numpy is a general-purpose array-processing package\n",
    "It Provides :\n",
    "1. An array object of arbitrary homogeneous items\n",
    "2. Fast mathematical operations over arrays\n",
    "3. Linear Algebra, Fourier Transforms, Random Number Generation\n"
   ]
  },
  {
   "cell_type": "raw",
   "id": "838d4ad4-f3e1-427c-817c-643e60b667d6",
   "metadata": {},
   "source": [
    "To install numpy -->\n",
    "window+R<<cmd<<pip install numpy"
   ]
  },
  {
   "cell_type": "code",
   "execution_count": 2,
   "id": "2ab27716-6be3-4339-b41a-79ba98f54f0a",
   "metadata": {},
   "outputs": [],
   "source": [
    "# to import numpy\n",
    "import numpy as np\n",
    "# np is an alias"
   ]
  },
  {
   "cell_type": "code",
   "execution_count": 114,
   "id": "54c4d53a-f0ec-4fd7-a7f1-507103bbf988",
   "metadata": {},
   "outputs": [],
   "source": [
    "my_lst=[1,2,3,4,5]\n",
    "arr1d=np.array(my_lst)\n",
    "# creating an array using np.array()"
   ]
  },
  {
   "cell_type": "code",
   "execution_count": 116,
   "id": "09743c54-65ba-450a-8d7e-315b8209a187",
   "metadata": {},
   "outputs": [
    {
     "data": {
      "text/plain": [
       "numpy.ndarray"
      ]
     },
     "execution_count": 116,
     "metadata": {},
     "output_type": "execute_result"
    }
   ],
   "source": [
    "type(arr1d)"
   ]
  },
  {
   "cell_type": "code",
   "execution_count": 118,
   "id": "6f4052fe-6686-434c-8f14-303f92a82525",
   "metadata": {},
   "outputs": [
    {
     "data": {
      "text/plain": [
       "array([1, 2, 3, 4, 5])"
      ]
     },
     "execution_count": 118,
     "metadata": {},
     "output_type": "execute_result"
    }
   ],
   "source": [
    "arr1d\n",
    "# one dimensional array"
   ]
  },
  {
   "cell_type": "code",
   "execution_count": 122,
   "id": "07719189-7a5d-4ed1-8e34-090bb31f2d9c",
   "metadata": {},
   "outputs": [
    {
     "data": {
      "text/plain": [
       "(5,)"
      ]
     },
     "execution_count": 122,
     "metadata": {},
     "output_type": "execute_result"
    }
   ],
   "source": [
    "# to check whether an array is of which dimension\n",
    "arr1d.shape"
   ]
  },
  {
   "cell_type": "code",
   "execution_count": 124,
   "id": "5364b1e0-a737-47a0-a255-93c8f10f5d09",
   "metadata": {},
   "outputs": [],
   "source": [
    "# Multinested/Multidimensional array -->\n",
    "my_lst1=[1,2,3,4,5]\n",
    "my_lst2=[2,3,4,5,6]\n",
    "my_lst3=[9,7,6,8,9]\n",
    "\n",
    "arr2d=np.array([my_lst1,my_lst2,my_lst3])"
   ]
  },
  {
   "cell_type": "code",
   "execution_count": 126,
   "id": "82d18970-dc1a-4b14-9b61-648d9ec99507",
   "metadata": {},
   "outputs": [
    {
     "data": {
      "text/plain": [
       "array([[1, 2, 3, 4, 5],\n",
       "       [2, 3, 4, 5, 6],\n",
       "       [9, 7, 6, 8, 9]])"
      ]
     },
     "execution_count": 126,
     "metadata": {},
     "output_type": "execute_result"
    }
   ],
   "source": [
    "arr2d"
   ]
  },
  {
   "cell_type": "code",
   "execution_count": 128,
   "id": "47d69b27-838b-4f70-be5c-7ff5d9ff0ff8",
   "metadata": {},
   "outputs": [
    {
     "data": {
      "text/plain": [
       "(3, 5)"
      ]
     },
     "execution_count": 128,
     "metadata": {},
     "output_type": "execute_result"
    }
   ],
   "source": [
    "arr2d.shape"
   ]
  },
  {
   "cell_type": "code",
   "execution_count": 130,
   "id": "8f96970d-805d-4466-ba4a-b67c82e1718c",
   "metadata": {},
   "outputs": [
    {
     "data": {
      "text/plain": [
       "array([[1, 2, 3],\n",
       "       [4, 5, 2],\n",
       "       [3, 4, 5],\n",
       "       [6, 9, 7],\n",
       "       [6, 8, 9]])"
      ]
     },
     "execution_count": 130,
     "metadata": {},
     "output_type": "execute_result"
    }
   ],
   "source": [
    "# to recreate the shape of the array(changing rows and colummns)\n",
    "arr2d.reshape(5,3)\n",
    "# assigned rows and columns should be equal to the total element otherwisw itll raise error\n",
    "# if total element 15 then rows and cloms can be only [(15,1)(1,15)(3,5)(5,3)]\n",
    "# arr.reshape(15,1)\n",
    "# arr.reshape(1,15)\n",
    "# arr.reshape(3,5)\n",
    "# Returns an array containing the same data with a new shape."
   ]
  },
  {
   "cell_type": "code",
   "execution_count": 132,
   "id": "9733e85d-3d4f-4262-80a4-5fc18ab88b57",
   "metadata": {},
   "outputs": [
    {
     "data": {
      "text/plain": [
       "(3, 5)"
      ]
     },
     "execution_count": 132,
     "metadata": {},
     "output_type": "execute_result"
    }
   ],
   "source": [
    "arr2d.shape"
   ]
  },
  {
   "cell_type": "markdown",
   "id": "4d1c33fa-076e-47fc-b7b8-91803868c7a6",
   "metadata": {},
   "source": [
    "## INDEXING"
   ]
  },
  {
   "cell_type": "code",
   "execution_count": 60,
   "id": "6106a1b0-446d-4734-b1e5-daaf8e683fe0",
   "metadata": {},
   "outputs": [
    {
     "data": {
      "text/plain": [
       "5"
      ]
     },
     "execution_count": 60,
     "metadata": {},
     "output_type": "execute_result"
    }
   ],
   "source": [
    "# Accessing the array element in one dimension\n",
    "arr1=np.array([1,2,3,4,5,6,7,8,9])\n",
    "arr1[4]"
   ]
  },
  {
   "cell_type": "code",
   "execution_count": 74,
   "id": "bbfad0e3-9308-485d-bf3c-612ede3dc053",
   "metadata": {},
   "outputs": [
    {
     "data": {
      "text/plain": [
       "array([7, 8, 9])"
      ]
     },
     "execution_count": 74,
     "metadata": {},
     "output_type": "execute_result"
    }
   ],
   "source": [
    "# Accessing the array element in two dimension\n",
    "arr2=np.array([[1,2,3],[4,5,6],[7,8,9]])\n",
    "arr2[2]\n"
   ]
  },
  {
   "cell_type": "markdown",
   "id": "ab646e40-d5f6-4f15-96e7-524070219a0f",
   "metadata": {},
   "source": [
    "#### Accesing element in two dimensional array -->"
   ]
  },
  {
   "cell_type": "raw",
   "id": "65f1059e-19e4-47db-a88b-04531ddb1250",
   "metadata": {},
   "source": [
    "Indxing will start from 0 to n-1 for both rows and columns .\n",
    "For 0 to 4 row it will be elements from oth index to 3rd index and same goes for columns ."
   ]
  },
  {
   "cell_type": "code",
   "execution_count": 82,
   "id": "6c3348e4-cd69-457e-8fc9-ffda2b0a48a8",
   "metadata": {},
   "outputs": [
    {
     "data": {
      "text/plain": [
       "array([[1, 2, 3],\n",
       "       [4, 5, 6],\n",
       "       [7, 8, 9]])"
      ]
     },
     "execution_count": 82,
     "metadata": {},
     "output_type": "execute_result"
    }
   ],
   "source": [
    "# 1. selecting all rows\n",
    "arr2[:,]"
   ]
  },
  {
   "cell_type": "code",
   "execution_count": 86,
   "id": "38822543-3d1e-4ad3-aaa8-39f13865d943",
   "metadata": {},
   "outputs": [
    {
     "data": {
      "text/plain": [
       "array([[1, 2, 3],\n",
       "       [4, 5, 6],\n",
       "       [7, 8, 9]])"
      ]
     },
     "execution_count": 86,
     "metadata": {},
     "output_type": "execute_result"
    }
   ],
   "source": [
    "# 2. selecting all rows and columns\n",
    "arr2[:,:]"
   ]
  },
  {
   "cell_type": "code",
   "execution_count": 88,
   "id": "742e7ce9-7d82-49c1-a71e-5e7ad7dbdc7c",
   "metadata": {},
   "outputs": [
    {
     "data": {
      "text/plain": [
       "array([[1, 2, 3],\n",
       "       [4, 5, 6],\n",
       "       [7, 8, 9]])"
      ]
     },
     "execution_count": 88,
     "metadata": {},
     "output_type": "execute_result"
    }
   ],
   "source": [
    "# 3. selectig n rows \n",
    "arr2[0:3,]"
   ]
  },
  {
   "cell_type": "code",
   "execution_count": 96,
   "id": "4f276df9-a313-4fe1-b4ec-f433a6bf02f6",
   "metadata": {},
   "outputs": [
    {
     "data": {
      "text/plain": [
       "array([[2, 3],\n",
       "       [5, 6],\n",
       "       [8, 9]])"
      ]
     },
     "execution_count": 96,
     "metadata": {},
     "output_type": "execute_result"
    }
   ],
   "source": [
    "# 4. selecting n rows and m columns\n",
    "arr2[0:3,1:3]"
   ]
  },
  {
   "cell_type": "code",
   "execution_count": 165,
   "id": "194b941b-4bc7-49c8-99fd-b780d1c5fe4e",
   "metadata": {},
   "outputs": [],
   "source": [
    "# Return evenly spaced values within a given interval.\n",
    "arr=np.arange(0,10)\n",
    "# arange(start,stop,step(optional))\n",
    "# arange can be used to quickly form an array"
   ]
  },
  {
   "cell_type": "code",
   "execution_count": 167,
   "id": "5f570679-d8c0-41f3-b098-915dc23fcad2",
   "metadata": {},
   "outputs": [
    {
     "data": {
      "text/plain": [
       "array([0, 1, 2, 3, 4, 5, 6, 7, 8, 9])"
      ]
     },
     "execution_count": 167,
     "metadata": {},
     "output_type": "execute_result"
    }
   ],
   "source": [
    "arr"
   ]
  },
  {
   "cell_type": "code",
   "execution_count": 177,
   "id": "edd6815c-c7e7-4661-a3c4-3257faf27a10",
   "metadata": {},
   "outputs": [
    {
     "data": {
      "text/plain": [
       "array([ 0.        ,  0.20408163,  0.40816327,  0.6122449 ,  0.81632653,\n",
       "        1.02040816,  1.2244898 ,  1.42857143,  1.63265306,  1.83673469,\n",
       "        2.04081633,  2.24489796,  2.44897959,  2.65306122,  2.85714286,\n",
       "        3.06122449,  3.26530612,  3.46938776,  3.67346939,  3.87755102,\n",
       "        4.08163265,  4.28571429,  4.48979592,  4.69387755,  4.89795918,\n",
       "        5.10204082,  5.30612245,  5.51020408,  5.71428571,  5.91836735,\n",
       "        6.12244898,  6.32653061,  6.53061224,  6.73469388,  6.93877551,\n",
       "        7.14285714,  7.34693878,  7.55102041,  7.75510204,  7.95918367,\n",
       "        8.16326531,  8.36734694,  8.57142857,  8.7755102 ,  8.97959184,\n",
       "        9.18367347,  9.3877551 ,  9.59183673,  9.79591837, 10.        ])"
      ]
     },
     "execution_count": 177,
     "metadata": {},
     "output_type": "execute_result"
    }
   ],
   "source": [
    "# Return evenly spaced numbers over a specified interval\n",
    "np.linspace(0,10,50)\n",
    "# np.linspace(start,stop,num=50,) num is total elements required betwen specified interval"
   ]
  },
  {
   "cell_type": "code",
   "execution_count": 179,
   "id": "a98d7288-8a92-4743-9377-e3fca65f256e",
   "metadata": {},
   "outputs": [],
   "source": [
    "# Copy() function and broadcasting\n",
    "arr[3:]=100"
   ]
  },
  {
   "cell_type": "code",
   "execution_count": 181,
   "id": "a9207969-4911-4466-9d08-8dcea1be8f15",
   "metadata": {},
   "outputs": [
    {
     "data": {
      "text/plain": [
       "array([  0,   1,   2, 100, 100, 100, 100, 100, 100, 100])"
      ]
     },
     "execution_count": 181,
     "metadata": {},
     "output_type": "execute_result"
    }
   ],
   "source": [
    "arr"
   ]
  },
  {
   "cell_type": "code",
   "execution_count": 183,
   "id": "f8a2c520-dd22-464e-8c16-58c5ba407966",
   "metadata": {},
   "outputs": [],
   "source": [
    "arr1=arr"
   ]
  },
  {
   "cell_type": "code",
   "execution_count": 185,
   "id": "8f2be810-186b-4c23-8519-73d1b6e286ae",
   "metadata": {},
   "outputs": [],
   "source": [
    "arr1[3:]=100"
   ]
  },
  {
   "cell_type": "code",
   "execution_count": 187,
   "id": "eae64d86-3600-42de-8b76-e6170cddfb20",
   "metadata": {},
   "outputs": [
    {
     "data": {
      "text/plain": [
       "array([  0,   1,   2, 100, 100, 100, 100, 100, 100, 100])"
      ]
     },
     "execution_count": 187,
     "metadata": {},
     "output_type": "execute_result"
    }
   ],
   "source": [
    "arr1"
   ]
  },
  {
   "cell_type": "code",
   "execution_count": 189,
   "id": "19da1b26-d9b4-447a-8ff1-dc45d2da05d5",
   "metadata": {},
   "outputs": [
    {
     "data": {
      "text/plain": [
       "array([  0,   1,   2, 100, 100, 100, 100, 100, 100, 100])"
      ]
     },
     "execution_count": 189,
     "metadata": {},
     "output_type": "execute_result"
    }
   ],
   "source": [
    "arr\n",
    "# changes made in arr1 reflected on arr bcz arr1 and arr shares the same memory space\n",
    "# because array is referenc type"
   ]
  },
  {
   "cell_type": "code",
   "execution_count": 191,
   "id": "9ce1022d-b5be-4a3e-a08d-8c18fc5fd609",
   "metadata": {},
   "outputs": [],
   "source": [
    "# to change this we use copy() function\n",
    "arr1=arr.copy()\n",
    "# copy() function creates a different memory space \n",
    "# Return a copy of the array."
   ]
  },
  {
   "cell_type": "code",
   "execution_count": 197,
   "id": "61c2a96b-02bf-47aa-abd9-4083891c110f",
   "metadata": {},
   "outputs": [
    {
     "name": "stdout",
     "output_type": "stream",
     "text": [
      "[  0   1   2 100 100 100 100 100 100 100]\n",
      "[  0   1   2 500 500 500 500 500 500 500]\n"
     ]
    }
   ],
   "source": [
    "print(arr)\n",
    "arr1[3:]=500\n",
    "print(arr1)\n",
    "# changes does not reflected by using copy()"
   ]
  },
  {
   "cell_type": "markdown",
   "id": "5dd5cbf9-5497-4d17-928b-0adfb09b9787",
   "metadata": {},
   "source": [
    "### Some conditions that are very useful in Exploratory data Analysis"
   ]
  },
  {
   "cell_type": "code",
   "execution_count": 203,
   "id": "a2f214ab-f2ba-45f6-8e7e-1aa55d8c4126",
   "metadata": {},
   "outputs": [
    {
     "data": {
      "text/plain": [
       "array([ True,  True, False, False, False, False, False, False, False,\n",
       "       False])"
      ]
     },
     "execution_count": 203,
     "metadata": {},
     "output_type": "execute_result"
    }
   ],
   "source": [
    "# 1.\n",
    "val=2\n",
    "arr<val\n",
    "# or we can write it as : arr<2"
   ]
  },
  {
   "cell_type": "code",
   "execution_count": 205,
   "id": "f4287d99-2e5b-4148-99b1-4f47d0ea3515",
   "metadata": {},
   "outputs": [
    {
     "data": {
      "text/plain": [
       "array([  0,   2,   4, 200, 200, 200, 200, 200, 200, 200])"
      ]
     },
     "execution_count": 205,
     "metadata": {},
     "output_type": "execute_result"
    }
   ],
   "source": [
    "arr*2"
   ]
  },
  {
   "cell_type": "code",
   "execution_count": 207,
   "id": "4e901ae6-6015-44e9-a099-7f0ea66a49c2",
   "metadata": {},
   "outputs": [
    {
     "data": {
      "text/plain": [
       "array([0, 1, 0, 0, 0, 0, 0, 0, 0, 0], dtype=int32)"
      ]
     },
     "execution_count": 207,
     "metadata": {},
     "output_type": "execute_result"
    }
   ],
   "source": [
    "arr%2"
   ]
  },
  {
   "cell_type": "code",
   "execution_count": null,
   "id": "d5c818e0-b6cd-442b-8945-2b449417a6f1",
   "metadata": {},
   "outputs": [],
   "source": [
    "# we can perform many conditions on array"
   ]
  },
  {
   "cell_type": "code",
   "execution_count": 212,
   "id": "36ac00f5-b527-4f26-b71d-d61546a665ab",
   "metadata": {},
   "outputs": [
    {
     "data": {
      "text/plain": [
       "array([0, 1])"
      ]
     },
     "execution_count": 212,
     "metadata": {},
     "output_type": "execute_result"
    }
   ],
   "source": [
    "# is we require specific element that satisfies the condition then -->\n",
    "arr[arr<2]"
   ]
  },
  {
   "cell_type": "code",
   "execution_count": 216,
   "id": "1b20da87-da6a-4b62-a340-af1570593b86",
   "metadata": {},
   "outputs": [
    {
     "data": {
      "text/plain": [
       "array([0, 1, 2])"
      ]
     },
     "execution_count": 216,
     "metadata": {},
     "output_type": "execute_result"
    }
   ],
   "source": [
    "arr[arr<100]"
   ]
  },
  {
   "cell_type": "code",
   "execution_count": 218,
   "id": "ffc49412-a198-4428-a65e-2ef0664ce0a1",
   "metadata": {},
   "outputs": [
    {
     "data": {
      "text/plain": [
       "array([[0, 1],\n",
       "       [2, 3],\n",
       "       [4, 5],\n",
       "       [6, 7],\n",
       "       [8, 9]])"
      ]
     },
     "execution_count": 218,
     "metadata": {},
     "output_type": "execute_result"
    }
   ],
   "source": [
    "# 2. Create array and reshape\n",
    "np.arange(0,10).reshape(5,2)"
   ]
  },
  {
   "cell_type": "code",
   "execution_count": 220,
   "id": "f23c5dd8-a399-41da-b94f-9f9d8291061a",
   "metadata": {},
   "outputs": [],
   "source": [
    "# 3. \n",
    "arr1=np.arange(0,10).reshape(5,2)"
   ]
  },
  {
   "cell_type": "code",
   "execution_count": 224,
   "id": "d5515a9d-1b64-4475-a6f8-e85c857fabd9",
   "metadata": {},
   "outputs": [],
   "source": [
    "arr2=np.arange(0,10).reshape(5,2)"
   ]
  },
  {
   "cell_type": "code",
   "execution_count": 226,
   "id": "a377dcb2-5d77-48a3-918a-393eb05e01af",
   "metadata": {},
   "outputs": [
    {
     "data": {
      "text/plain": [
       "array([[ 0,  1],\n",
       "       [ 4,  9],\n",
       "       [16, 25],\n",
       "       [36, 49],\n",
       "       [64, 81]])"
      ]
     },
     "execution_count": 226,
     "metadata": {},
     "output_type": "execute_result"
    }
   ],
   "source": [
    "arr1*arr2"
   ]
  },
  {
   "cell_type": "code",
   "execution_count": 228,
   "id": "373184e2-70b3-4742-b7b8-ebaa1ea04bd7",
   "metadata": {},
   "outputs": [
    {
     "data": {
      "text/plain": [
       "array([1., 1., 1., 1.])"
      ]
     },
     "execution_count": 228,
     "metadata": {},
     "output_type": "execute_result"
    }
   ],
   "source": [
    "# 4. ones() function can be used to craete an array with replacing all values with 1\n",
    "np.ones(4)\n",
    "# 4 is the size of array"
   ]
  },
  {
   "cell_type": "code",
   "execution_count": 230,
   "id": "3e63f835-9839-4602-9174-56929b7744ce",
   "metadata": {},
   "outputs": [
    {
     "data": {
      "text/plain": [
       "array([1, 1, 1, 1])"
      ]
     },
     "execution_count": 230,
     "metadata": {},
     "output_type": "execute_result"
    }
   ],
   "source": [
    "# also ones function can be used with dtype\n",
    "np.ones(4,dtype=int)\n",
    "# dtype can be used to specify the type of date you required"
   ]
  },
  {
   "cell_type": "code",
   "execution_count": 232,
   "id": "e8e4a614-1357-43ac-8457-2a7e9e1b15c6",
   "metadata": {},
   "outputs": [
    {
     "data": {
      "text/plain": [
       "array([[1, 1, 1, 1, 1],\n",
       "       [1, 1, 1, 1, 1]])"
      ]
     },
     "execution_count": 232,
     "metadata": {},
     "output_type": "execute_result"
    }
   ],
   "source": [
    "# 5. creating 2D arry in ones function()\n",
    "np.ones((2,5),dtype=int)"
   ]
  },
  {
   "cell_type": "code",
   "execution_count": 240,
   "id": "83464125-af05-4628-a440-443c938afbc7",
   "metadata": {},
   "outputs": [
    {
     "data": {
      "text/plain": [
       "array([[0.56485917, 0.51182378, 0.23003477],\n",
       "       [0.05977815, 0.55760224, 0.22956505],\n",
       "       [0.01131294, 0.78923   , 0.77849604]])"
      ]
     },
     "execution_count": 240,
     "metadata": {},
     "output_type": "execute_result"
    }
   ],
   "source": [
    "# 6. Random distribution\n",
    "# (A.) rand -->\n",
    "np.random.rand(3,3)\n",
    "# random generates random no from 0 to 1 and put in the range specified\n",
    "# generated no will never be less than 0 and greater than one"
   ]
  },
  {
   "cell_type": "code",
   "execution_count": 246,
   "id": "0345b219-d2b6-486e-b2ed-1be936eb97af",
   "metadata": {},
   "outputs": [
    {
     "data": {
      "text/plain": [
       "array([[-1.18314311,  0.01911645, -0.24728772,  0.17407817],\n",
       "       [-0.74303178, -0.8987868 ,  0.99427225, -0.51102222],\n",
       "       [-0.55557612,  1.14597208, -0.14782282, -0.55346496],\n",
       "       [-0.97389548, -0.45424453, -0.88124059, -0.30922068]])"
      ]
     },
     "execution_count": 246,
     "metadata": {},
     "output_type": "execute_result"
    }
   ],
   "source": [
    "# (B.) randn -->\n",
    "arr_ex=np.random.randn(4,4)\n",
    "arr_ex\n",
    "# Return a sample (or samples) from the \"standard normal\" distribution."
   ]
  },
  {
   "cell_type": "code",
   "execution_count": 248,
   "id": "e17bd540-0cd5-4c04-9591-b55675862dc2",
   "metadata": {},
   "outputs": [
    {
     "data": {
      "text/plain": [
       "array([[43, 88],\n",
       "       [33, 56],\n",
       "       [ 9,  9],\n",
       "       [25, 42]])"
      ]
     },
     "execution_count": 248,
     "metadata": {},
     "output_type": "execute_result"
    }
   ],
   "source": [
    "# (C.) randint -->\n",
    "np.random.randint(0,100,8).reshape(4,2)\n",
    "# Return random integers from `low` (inclusive) to `high` (exclusive).\n",
    "# randint(low, high=None, size=None, dtype=int)"
   ]
  },
  {
   "cell_type": "code",
   "execution_count": 250,
   "id": "1d5d7a9d-7cc6-4fe3-9a24-f35fe2c97987",
   "metadata": {},
   "outputs": [
    {
     "data": {
      "text/plain": [
       "array([[0.98182558, 0.46308419, 0.81801441, 0.01168136, 0.50439405]])"
      ]
     },
     "execution_count": 250,
     "metadata": {},
     "output_type": "execute_result"
    }
   ],
   "source": [
    "# (D.) random_sample -->\n",
    "np.random.random_sample((1,5))\n",
    "# Return random floats in the half-open interval [0.0, 1.0)."
   ]
  }
 ],
 "metadata": {
  "kernelspec": {
   "display_name": "Python 3 (ipykernel)",
   "language": "python",
   "name": "python3"
  },
  "language_info": {
   "codemirror_mode": {
    "name": "ipython",
    "version": 3
   },
   "file_extension": ".py",
   "mimetype": "text/x-python",
   "name": "python",
   "nbconvert_exporter": "python",
   "pygments_lexer": "ipython3",
   "version": "3.12.4"
  }
 },
 "nbformat": 4,
 "nbformat_minor": 5
}
